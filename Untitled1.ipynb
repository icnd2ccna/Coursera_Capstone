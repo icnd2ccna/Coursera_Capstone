{
 "cells": [
  {
   "cell_type": "markdown",
   "metadata": {},
   "source": [
    "This notebook will be mainly used for the capstone project"
   ]
  },
  {
   "cell_type": "code",
   "execution_count": 3,
   "metadata": {},
   "outputs": [],
   "source": [
    "import pandas as pd\n",
    "import numpy as np"
   ]
  },
  {
   "cell_type": "code",
   "execution_count": 1,
   "metadata": {},
   "outputs": [
    {
     "name": "stdout",
     "output_type": "stream",
     "text": [
      "Hello Capstone Project Course!\n"
     ]
    }
   ],
   "source": [
    "print('Hello Capstone Project Course!')"
   ]
  },
  {
   "cell_type": "code",
   "execution_count": null,
   "metadata": {},
   "outputs": [],
   "source": []
  },
  {
   "cell_type": "markdown",
   "metadata": {},
   "source": [
    "Introduction/Business Problem"
   ]
  },
  {
   "cell_type": "markdown",
   "metadata": {},
   "source": [
    "I will use a Data-Collisionss dataset for predicting incident severity churn. This is a historical car incident dataset where each row represents one incident. The data is relatively easy to understand, and you may uncover insights you can use immediately. Typically I make the focus of this analysis is to predict the severity which could happen from different whether.  \n",
    "This data set provides information to help audience predict what severity will it might be. I can analyze all relevant Collisions data and develop focused Collisions prediction programs.\n",
    "M​y audience is city traffic management department who plan to have some real-time warning on a electric-billboard to warn drivers Car accident severity, based on information : PERSONCOUNT-The total number of people involved in the collision,  PEDCOUNT-The number of pedestrians involved in the collision, VEHCOUNT- the number of vehicles involved in the collision and INJURIES-The number of total injuries in the collision."
   ]
  },
  {
   "cell_type": "code",
   "execution_count": null,
   "metadata": {},
   "outputs": [],
   "source": []
  },
  {
   "cell_type": "markdown",
   "metadata": {},
   "source": [
    "The dataset includes information about:"
   ]
  },
  {
   "cell_type": "markdown",
   "metadata": {},
   "source": [
    "\n",
    "SEVERITYCODE-A code that corresponds to the severity of the collision: 3— fatality,2b—serious injury 2— injury,1— prop damage,0—unknown\n",
    "PERSONCOUNT-The total number of people involved in the collision\n",
    "PEDCOUNT-The number of pedestrians involved in the collision. This is entered by the state.\n",
    "VEHCOUNT-The number of vehicles involved in the collision. This is entered by the state.\n",
    "INJURIES-The number of total injuries in the collision. This is entered by the state."
   ]
  },
  {
   "cell_type": "code",
   "execution_count": null,
   "metadata": {},
   "outputs": [],
   "source": []
  }
 ],
 "metadata": {
  "kernelspec": {
   "display_name": "Python",
   "language": "python",
   "name": "conda-env-python-py"
  },
  "language_info": {
   "codemirror_mode": {
    "name": "ipython",
    "version": 3
   },
   "file_extension": ".py",
   "mimetype": "text/x-python",
   "name": "python",
   "nbconvert_exporter": "python",
   "pygments_lexer": "ipython3",
   "version": "3.6.11"
  }
 },
 "nbformat": 4,
 "nbformat_minor": 4
}
